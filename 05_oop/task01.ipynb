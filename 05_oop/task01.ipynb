{
 "cells": [
  {
   "cell_type": "code",
   "execution_count": 6,
   "id": "b9ba75b0",
   "metadata": {},
   "outputs": [
    {
     "name": "stdout",
     "output_type": "stream",
     "text": [
      "1300\n",
      "エラー: 残高不足または無効な金額です\n"
     ]
    }
   ],
   "source": [
    "class BankAccount:\n",
    "  def __init__(self, _balance):\n",
    "    self._balance = _balance\n",
    "\n",
    "  def deposit(self, amount):\n",
    "    if amount < 0:\n",
    "      raise ValueError(\"エラー: 正しい金額を入力してください\")\n",
    "    self._balance += amount\n",
    "\n",
    "  def withdraw(self, amount):\n",
    "    if amount <= 0 or amount > self._balance:\n",
    "      raise ValueError(\"エラー: 残高不足または無効な金額です\")\n",
    "    self._balance -= amount\n",
    "\n",
    "  def get_balance(self):\n",
    "    print(self._balance)\n",
    "  \n",
    "try:\n",
    "  bank_account = BankAccount(1000)\n",
    "  bank_account.deposit(500)\n",
    "  bank_account.withdraw(200)\n",
    "  bank_account.get_balance()\n",
    "  bank_account.withdraw(1500)\n",
    "except ValueError as e:\n",
    "  print(e)"
   ]
  },
  {
   "cell_type": "code",
   "execution_count": null,
   "id": "06987114",
   "metadata": {},
   "outputs": [],
   "source": []
  }
 ],
 "metadata": {
  "kernelspec": {
   "display_name": ".venv (3.12.10)",
   "language": "python",
   "name": "python3"
  },
  "language_info": {
   "codemirror_mode": {
    "name": "ipython",
    "version": 3
   },
   "file_extension": ".py",
   "mimetype": "text/x-python",
   "name": "python",
   "nbconvert_exporter": "python",
   "pygments_lexer": "ipython3",
   "version": "3.12.10"
  }
 },
 "nbformat": 4,
 "nbformat_minor": 5
}

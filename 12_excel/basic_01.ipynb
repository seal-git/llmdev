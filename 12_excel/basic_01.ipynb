{
 "cells": [
  {
   "cell_type": "code",
   "execution_count": 1,
   "id": "da29c93e",
   "metadata": {},
   "outputs": [],
   "source": [
    "# 必要なモジュールをインポート\n",
    "import os\n",
    "from dotenv import load_dotenv\n",
    "from openai import OpenAI\n",
    "import pandas as pd\n",
    "\n",
    "# 環境変数の取得\n",
    "load_dotenv()\n",
    "\n",
    "# OpenAI APIクライアントを生成\n",
    "client = OpenAI(api_key=os.environ['API_KEY'])\n",
    "\n",
    "# モデル名\n",
    "MODEL_NAME = \"gpt-4o-mini\""
   ]
  },
  {
   "cell_type": "code",
   "execution_count": 2,
   "id": "a6ff9eed",
   "metadata": {},
   "outputs": [
    {
     "data": {
      "text/html": [
       "<div>\n",
       "<style scoped>\n",
       "    .dataframe tbody tr th:only-of-type {\n",
       "        vertical-align: middle;\n",
       "    }\n",
       "\n",
       "    .dataframe tbody tr th {\n",
       "        vertical-align: top;\n",
       "    }\n",
       "\n",
       "    .dataframe thead th {\n",
       "        text-align: right;\n",
       "    }\n",
       "</style>\n",
       "<table border=\"1\" class=\"dataframe\">\n",
       "  <thead>\n",
       "    <tr style=\"text-align: right;\">\n",
       "      <th></th>\n",
       "      <th>カテゴリー</th>\n",
       "      <th>商品コード</th>\n",
       "      <th>商品名</th>\n",
       "      <th>売上日</th>\n",
       "      <th>単価</th>\n",
       "      <th>数量</th>\n",
       "      <th>原価</th>\n",
       "    </tr>\n",
       "  </thead>\n",
       "  <tbody>\n",
       "    <tr>\n",
       "      <th>0</th>\n",
       "      <td>食品</td>\n",
       "      <td>1001</td>\n",
       "      <td>りんご</td>\n",
       "      <td>2023-01-01</td>\n",
       "      <td>200</td>\n",
       "      <td>50</td>\n",
       "      <td>120</td>\n",
       "    </tr>\n",
       "    <tr>\n",
       "      <th>1</th>\n",
       "      <td>食品</td>\n",
       "      <td>1002</td>\n",
       "      <td>バナナ</td>\n",
       "      <td>2023-01-01</td>\n",
       "      <td>150</td>\n",
       "      <td>100</td>\n",
       "      <td>80</td>\n",
       "    </tr>\n",
       "    <tr>\n",
       "      <th>2</th>\n",
       "      <td>食品</td>\n",
       "      <td>1003</td>\n",
       "      <td>牛乳</td>\n",
       "      <td>2023-01-02</td>\n",
       "      <td>180</td>\n",
       "      <td>80</td>\n",
       "      <td>100</td>\n",
       "    </tr>\n",
       "    <tr>\n",
       "      <th>3</th>\n",
       "      <td>衣服</td>\n",
       "      <td>2001</td>\n",
       "      <td>Tシャツ</td>\n",
       "      <td>2023-01-02</td>\n",
       "      <td>1500</td>\n",
       "      <td>20</td>\n",
       "      <td>800</td>\n",
       "    </tr>\n",
       "    <tr>\n",
       "      <th>4</th>\n",
       "      <td>衣服</td>\n",
       "      <td>2002</td>\n",
       "      <td>ジーンズ</td>\n",
       "      <td>2023-01-03</td>\n",
       "      <td>5000</td>\n",
       "      <td>10</td>\n",
       "      <td>2500</td>\n",
       "    </tr>\n",
       "  </tbody>\n",
       "</table>\n",
       "</div>"
      ],
      "text/plain": [
       "  カテゴリー  商品コード   商品名        売上日    単価   数量    原価\n",
       "0    食品   1001   りんご 2023-01-01   200   50   120\n",
       "1    食品   1002   バナナ 2023-01-01   150  100    80\n",
       "2    食品   1003    牛乳 2023-01-02   180   80   100\n",
       "3    衣服   2001  Tシャツ 2023-01-02  1500   20   800\n",
       "4    衣服   2002  ジーンズ 2023-01-03  5000   10  2500"
      ]
     },
     "execution_count": 2,
     "metadata": {},
     "output_type": "execute_result"
    }
   ],
   "source": [
    "# 1. Excelファイルを読み込む\n",
    "df = pd.read_excel('サンプルデータ.xlsx', sheet_name='売上データ')\n",
    "# データフレームを表示して確認\n",
    "df.head()"
   ]
  },
  {
   "cell_type": "code",
   "execution_count": 3,
   "id": "8186a61d",
   "metadata": {},
   "outputs": [
    {
     "name": "stdout",
     "output_type": "stream",
     "text": [
      "売上データ:\n",
      "    カテゴリー 商品コード      商品名         売上日    単価   数量    原価\n",
      "0      食品  1001      りんご  2023-01-01   200   50   120\n",
      "1      食品  1002      バナナ  2023-01-01   150  100    80\n",
      "2      食品  1003       牛乳  2023-01-02   180   80   100\n",
      "3      衣服  2001     Tシャツ  2023-01-02  1500   20   800\n",
      "4      衣服  2002     ジーンズ  2023-01-03  5000   10  2500\n",
      "..    ...   ...      ...         ...   ...  ...   ...\n",
      "235    衣服  2077   レインパンツ  2023-04-28  2000   18  1000\n",
      "236    食品  1085      ザクロ  2023-04-29   600   40   300\n",
      "237   日用品  3077    バスブラシ  2023-04-29   400   60   200\n",
      "238    衣服  2078  レインシューズ  2023-04-30  2500   15  1250\n",
      "239    食品  1086    ココナッツ  2023-04-30   300   80   150\n",
      "\n",
      "[240 rows x 7 columns]\n",
      "この売上データの傾向を分析してください。\n"
     ]
    }
   ],
   "source": [
    "# 2. データをLLM用にテキスト形式に変換\n",
    "# データフレーム全体を文字列に変換\n",
    "sales_data_text = df.astype(str)\n",
    "prompt_text = f\"売上データ:\\n{sales_data_text}\\nこの売上データの傾向を分析してください。\"\n",
    "# 表示して確認\n",
    "print(prompt_text)"
   ]
  },
  {
   "cell_type": "code",
   "execution_count": 4,
   "id": "e294e957",
   "metadata": {},
   "outputs": [
    {
     "name": "stdout",
     "output_type": "stream",
     "text": [
      "売上データの傾向を分析する際には、以下のいくつかの観点から考察が可能です。\n",
      "\n",
      "### 1. **売上総額の分析**\n",
      "   - 売上総額を計算し、売上の傾向やピーク時期を把握します。\n",
      "   - もし売上が月ごとに別れるなら、月ごとの売上推移グラフを作成することで、特定の季節にどのような商品が売れるかを視覚化できます。\n",
      "\n",
      "### 2. **カテゴリ別の売上分析**\n",
      "   - 売上データをカテゴリ別に集計し、どのカテゴリが最も売上貢献度が高いのかを確認します。たとえば、食品、衣服、日用品のカテゴリの比較が考えられます。\n",
      "   - 各カテゴリ内のトレンド（例えば、特定の商品が他の商品に比べてどれほど売上を上げているか）を分析します。\n",
      "\n",
      "### 3. **商品コード・商品名別のパフォーマンス**\n",
      "   - 各商品ごとの売上げ、数量、利益（売上額 - 原価）を計算し、最も利益をもたらしている商品を特定します。\n",
      "   - 強いパフォーマンスを示している商品とそうでない商品を比較することで、商品の陳列やプロモーション戦略を改善する手助けができます。\n",
      "\n",
      "### 4. **トレンド分析**\n",
      "   - 売上の成長率や減少率を分析し、特に急増または急減した商品の情報を探求します。\n",
      "   - 単価と数量の関係を考慮し、どの要因が売上に最も影響を与えているかを隠れた要因として把握します。\n",
      "\n",
      "### 5. **利益率の分析**\n",
      "   - 各商品の利益率（（単価 - 原価）/ 単価）を算出し、どの商品が高い利益を生んでいるかを評価します。\n",
      "   - 利益性の高い商品を強化するため、マーケティング戦略を再考することができます。\n",
      "\n",
      "### 6. **時間帯・季節ごとの傾向**\n",
      "   - 売上日をもとに、季節ごとや時間帯ごとの売上分析を行います。たとえば、特定の季節に需要が高まる商品を特定できます。\n",
      "   - 売上のピークがいつであるのか（例: 年末年始、夏のセール等）を把握し、事前にマーケティングキャンペーンを計画。\n",
      "\n",
      "### 7. **リピート購入・顧客分析**\n",
      "   - 顧客情報があれば、リピート購入の傾向を分析し、どの顧客セグメントがリピーターであるかを特定します。\n",
      "   - それに基づいて、特別なオファーやロイヤリティプログラムを考案することが可能です。\n",
      "\n",
      "これらの観点から、売上データを詳しく分析すると、企業のマーケティング戦略や商品戦略の改善に繋がる貴重なインサイトが得られます。最終的にはデータをビジュアル化し、関係者に分かりやすく示すことも大切です。\n"
     ]
    }
   ],
   "source": [
    "# 3. OpenAI APIの呼び出し\n",
    "\n",
    "# 役割を設定\n",
    "role = \"あなたはマーケティング分野に精通したデータサイエンティストです。企業の成長をサポートするために、効果的なインサイトを提供します。\"\n",
    "\n",
    "# APIへリクエスト\n",
    "response = client.chat.completions.create(\n",
    "    model=MODEL_NAME,\n",
    "    messages=[\n",
    "        {\"role\": \"system\", \"content\": role},\n",
    "        {\"role\": \"user\", \"content\": prompt_text},\n",
    "    ],\n",
    ")\n",
    "\n",
    "# LLMからの回答を表示\n",
    "print(response.choices[0].message.content.strip())"
   ]
  },
  {
   "cell_type": "code",
   "execution_count": 5,
   "id": "993aacf2",
   "metadata": {},
   "outputs": [
    {
     "name": "stdout",
     "output_type": "stream",
     "text": [
      "                                                   結果\n",
      "0               売上データの傾向を分析する際には、以下のいくつかの観点から考察が可能です。\n",
      "1                                                    \n",
      "2                                  ### 1. **売上総額の分析**\n",
      "3                       - 売上総額を計算し、売上の傾向やピーク時期を把握します。\n",
      "4      - もし売上が月ごとに別れるなら、月ごとの売上推移グラフを作成することで、特定の季節に...\n",
      "5                                                    \n",
      "6                               ### 2. **カテゴリ別の売上分析**\n",
      "7      - 売上データをカテゴリ別に集計し、どのカテゴリが最も売上貢献度が高いのかを確認します...\n",
      "8      - 各カテゴリ内のトレンド（例えば、特定の商品が他の商品に比べてどれほど売上を上げてい...\n",
      "9                                                    \n",
      "10                      ### 3. **商品コード・商品名別のパフォーマンス**\n",
      "11     - 各商品ごとの売上げ、数量、利益（売上額 - 原価）を計算し、最も利益をもたらしてい...\n",
      "12     - 強いパフォーマンスを示している商品とそうでない商品を比較することで、商品の陳列やプ...\n",
      "13                                                   \n",
      "14                                  ### 4. **トレンド分析**\n",
      "15           - 売上の成長率や減少率を分析し、特に急増または急減した商品の情報を探求します。\n",
      "16     - 単価と数量の関係を考慮し、どの要因が売上に最も影響を与えているかを隠れた要因として...\n",
      "17                                                   \n",
      "18                                  ### 5. **利益率の分析**\n",
      "19     - 各商品の利益率（（単価 - 原価）/ 単価）を算出し、どの商品が高い利益を生んでい...\n",
      "20           - 利益性の高い商品を強化するため、マーケティング戦略を再考することができます。\n",
      "21                                                   \n",
      "22                             ### 6. **時間帯・季節ごとの傾向**\n",
      "23     - 売上日をもとに、季節ごとや時間帯ごとの売上分析を行います。たとえば、特定の季節に需...\n",
      "24     - 売上のピークがいつであるのか（例: 年末年始、夏のセール等）を把握し、事前にマーケ...\n",
      "25                                                   \n",
      "26                             ### 7. **リピート購入・顧客分析**\n",
      "27     - 顧客情報があれば、リピート購入の傾向を分析し、どの顧客セグメントがリピーターである...\n",
      "28         - それに基づいて、特別なオファーやロイヤリティプログラムを考案することが可能です。\n",
      "29                                                   \n",
      "30  これらの観点から、売上データを詳しく分析すると、企業のマーケティング戦略や商品戦略の改善に繋...\n"
     ]
    }
   ],
   "source": [
    "# 4. 分析結果をデータフレームに変換\n",
    "result_list = response.choices[0].message.content.strip().split(\"\\n\")\n",
    "df_out = pd.DataFrame(result_list, columns=['結果'])\n",
    "print(df_out)"
   ]
  },
  {
   "cell_type": "code",
   "execution_count": 6,
   "id": "2e6d4622",
   "metadata": {},
   "outputs": [],
   "source": [
    "# 5. 結果をExcelファイルに保存\n",
    "df_out.to_excel(\"売上データ分析結果.xlsx\", index=False)"
   ]
  },
  {
   "cell_type": "code",
   "execution_count": 7,
   "id": "d394d5f9",
   "metadata": {},
   "outputs": [
    {
     "name": "stdout",
     "output_type": "stream",
     "text": [
      "処理を開始します。\n",
      "Excelファイルに分析結果を保存しました。\n"
     ]
    }
   ],
   "source": [
    "# ワークフロー化\n",
    "print(\"処理を開始します。\")\n",
    "\n",
    "# 1. Excelファイルを読み込む\n",
    "df = pd.read_excel('サンプルデータ.xlsx', sheet_name='売上データ')\n",
    "\n",
    "# 2. データをLLM用にテキスト形式に変換\n",
    "sales_data_text = df.astype(str)\n",
    "prompt_text = f\"売上データ:\\n{sales_data_text}\\nこの売上データの傾向を分析してください。\"\n",
    "\n",
    "# 3. OpenAI APIの呼び出し\n",
    "# 役割を設定\n",
    "role = \"あなたはマーケティング分野に精通したデータサイエンティストです。企業の成長をサポートするために、効果的なインサイトを提供します。\"\n",
    "# APIへリクエスト\n",
    "response = client.chat.completions.create(\n",
    "    model=MODEL_NAME,\n",
    "    messages=[\n",
    "        {\"role\": \"system\", \"content\": role},\n",
    "        {\"role\": \"user\", \"content\": prompt_text},\n",
    "    ],\n",
    ")\n",
    "\n",
    "# 4. 分析結果をデータフレームに変換\n",
    "result_list = response.choices[0].message.content.strip().split(\"\\n\")\n",
    "df_out = pd.DataFrame(result_list, columns=['結果'])\n",
    "\n",
    "# 5. 結果をExcelファイルに保存\n",
    "df_out.to_excel(\"売上データ分析結果.xlsx\", index=False)\n",
    "\n",
    "print(\"Excelファイルに分析結果を保存しました。\")"
   ]
  },
  {
   "cell_type": "code",
   "execution_count": null,
   "id": "2ce9d8ea",
   "metadata": {},
   "outputs": [],
   "source": []
  }
 ],
 "metadata": {
  "kernelspec": {
   "display_name": ".venv (3.12.10)",
   "language": "python",
   "name": "python3"
  },
  "language_info": {
   "codemirror_mode": {
    "name": "ipython",
    "version": 3
   },
   "file_extension": ".py",
   "mimetype": "text/x-python",
   "name": "python",
   "nbconvert_exporter": "python",
   "pygments_lexer": "ipython3",
   "version": "3.12.10"
  }
 },
 "nbformat": 4,
 "nbformat_minor": 5
}

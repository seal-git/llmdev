{
 "cells": [
  {
   "cell_type": "code",
   "execution_count": 2,
   "id": "610013d6",
   "metadata": {},
   "outputs": [
    {
     "name": "stdout",
     "output_type": "stream",
     "text": [
      "送料は350円です\n",
      "送料込税込価格は1450円です\n"
     ]
    }
   ],
   "source": [
    "price: str = input(\"税抜価格を入力してください：\")\n",
    "\n",
    "# 仕様外だが一応エラー処理も書いておく\n",
    "import sys\n",
    "if not price.isdigit():\n",
    "    print(\"価格は数字で入力してください。\")\n",
    "    sys.exit(1)\n",
    "\n",
    "taxed_price: int = round(int(price) * 1.1)\n",
    "\n",
    "total_price: int = taxed_price\n",
    "if taxed_price >= 2000: \n",
    "  print(\"送料は無料です\")\n",
    "else:\n",
    "  total_price += 350  \n",
    "  print(\"送料は350円です\")\n",
    "\n",
    "print(f\"送料込税込価格は{total_price}円です\")\n"
   ]
  },
  {
   "cell_type": "code",
   "execution_count": null,
   "id": "2fdcc7ac",
   "metadata": {},
   "outputs": [],
   "source": []
  }
 ],
 "metadata": {
  "kernelspec": {
   "display_name": ".venv (3.12.10)",
   "language": "python",
   "name": "python3"
  },
  "language_info": {
   "codemirror_mode": {
    "name": "ipython",
    "version": 3
   },
   "file_extension": ".py",
   "mimetype": "text/x-python",
   "name": "python",
   "nbconvert_exporter": "python",
   "pygments_lexer": "ipython3",
   "version": "3.12.10"
  }
 },
 "nbformat": 4,
 "nbformat_minor": 5
}

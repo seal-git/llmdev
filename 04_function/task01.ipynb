{
 "cells": [
  {
   "cell_type": "code",
   "execution_count": 8,
   "id": "e0e8e888",
   "metadata": {},
   "outputs": [
    {
     "name": "stdout",
     "output_type": "stream",
     "text": [
      "エラー: ユーザー名は5文字以上15文字以内で入力してください\n",
      "不正なユーザー名です\n"
     ]
    }
   ],
   "source": [
    "name: str = input(\"名前を入力してください: \")\n",
    "\n",
    "result: bool = True\n",
    "if len(name) < 5 or len(name) > 15:\n",
    "  print(\"エラー: ユーザー名は5文字以上15文字以内で入力してください\")\n",
    "  result = False\n",
    "elif \" \" in name:\n",
    "  print(\"エラー: ユーザー名に空白を含めることはできません\")\n",
    "  result = False\n",
    "elif not name.isalnum():\n",
    "  print(\"エラー: ユーザー名は英数字のみ使用できます\")\n",
    "  result = False\n",
    "\n",
    "if result:\n",
    "  print(\"ユーザー名は有効です\")\n",
    "else:\n",
    "  print(\"不正なユーザー名です\")"
   ]
  },
  {
   "cell_type": "code",
   "execution_count": null,
   "id": "cbb90283",
   "metadata": {},
   "outputs": [],
   "source": []
  },
  {
   "cell_type": "code",
   "execution_count": null,
   "id": "8121beab",
   "metadata": {},
   "outputs": [],
   "source": []
  }
 ],
 "metadata": {
  "kernelspec": {
   "display_name": ".venv (3.12.10)",
   "language": "python",
   "name": "python3"
  },
  "language_info": {
   "codemirror_mode": {
    "name": "ipython",
    "version": 3
   },
   "file_extension": ".py",
   "mimetype": "text/x-python",
   "name": "python",
   "nbconvert_exporter": "python",
   "pygments_lexer": "ipython3",
   "version": "3.12.10"
  }
 },
 "nbformat": 4,
 "nbformat_minor": 5
}

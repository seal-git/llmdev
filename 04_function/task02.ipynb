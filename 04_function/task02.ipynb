{
 "cells": [
  {
   "cell_type": "code",
   "execution_count": 10,
   "id": "375e0075",
   "metadata": {},
   "outputs": [
    {
     "name": "stdout",
     "output_type": "stream",
     "text": [
      "Content saved in: 20250808_182102.txt\n"
     ]
    }
   ],
   "source": [
    "import requests\n",
    "import datetime \n",
    "\n",
    "# URLを引数として受け取り、Webページのコンテンツの先頭500文字を日時のファイル名で保存し、ファイル名を戻り値として返す\n",
    "# ファイル名は<現在の日時>.txt\n",
    "def save_url_content(url):\n",
    "  content = requests.get(url).text\n",
    "  # print(content[:500])\n",
    "  file_name = f\"{datetime.datetime.now().strftime('%Y%m%d_%H%M%S')}.txt\"\n",
    "  with open(file_name, \"w\", encoding=\"utf-8\") as file:\n",
    "    file.write(content[:500])\n",
    "  return file_name\n",
    "\n",
    "url = input(\"URLを入力してください: \")\n",
    "file_name = save_url_content(url)\n",
    "print(f\"Content saved in: {file_name}\")"
   ]
  },
  {
   "cell_type": "code",
   "execution_count": null,
   "id": "6f553e10",
   "metadata": {},
   "outputs": [],
   "source": []
  }
 ],
 "metadata": {
  "kernelspec": {
   "display_name": ".venv (3.12.10)",
   "language": "python",
   "name": "python3"
  },
  "language_info": {
   "codemirror_mode": {
    "name": "ipython",
    "version": 3
   },
   "file_extension": ".py",
   "mimetype": "text/x-python",
   "name": "python",
   "nbconvert_exporter": "python",
   "pygments_lexer": "ipython3",
   "version": "3.12.10"
  }
 },
 "nbformat": 4,
 "nbformat_minor": 5
}

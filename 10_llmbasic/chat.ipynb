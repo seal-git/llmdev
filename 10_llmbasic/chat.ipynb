{
 "cells": [
  {
   "cell_type": "code",
   "execution_count": 3,
   "id": "3f8c728a",
   "metadata": {},
   "outputs": [],
   "source": [
    "# 必要なモジュールをインポート\n",
    "import os\n",
    "from dotenv import load_dotenv\n",
    "from openai import OpenAI\n",
    "from pprint import pprint\n",
    "\n",
    "# 環境変数の取得\n",
    "load_dotenv(\"../.env\")\n",
    "\n",
    "# OpenAI APIクライアントを生成\n",
    "client = OpenAI(api_key=os.environ['API_KEY'])\n",
    "\n",
    "# モデル名\n",
    "MODEL_NAME = \"gpt-4o-mini\""
   ]
  },
  {
   "cell_type": "code",
   "execution_count": 4,
   "id": "60ae7615",
   "metadata": {},
   "outputs": [
    {
     "name": "stdout",
     "output_type": "stream",
     "text": [
      "{'_request_id': 'req_7f6bf99282274021b22ba0d73987ede2',\n",
      " 'choices': [Choice(finish_reason='stop', index=0, logprobs=None, message=ChatCompletionMessage(content='言語モデルを使用する際のポイントについて、以下の点を考慮すると良いでしょう。\\n\\n1. **目的の明確化**: 何を達成したいのかを明確にすることが重要です。文章生成、会話のシミュレーション、データ分析など、目的によって適切な使い方が変わります。\\n\\n2. **入力の工夫**: モデルに与える入力（プロンプト）は、その出力の質に大きく影響します。具体的で明確な質問や指示を与えることで、より良い結果が得られます。\\n\\n3. **コンテキストの保持**: モデルには、関連する情報やコンテキストを提供することが重要です。特に長い会話や複雑なタスクの場合、過去の情報を参照することでより適切な応答が得られます。\\n\\n4. **結果の検証**: モデルの出力は常に正確とは限りません。結果を必ず検証し、必要に応じて修正や補足を行うことが重要です。\\n\\n5. **バイアスと倫理**: 言語モデルは訓練データに基づいて応答するため、バイアスが含まれることがあります。倫理的な配慮を持ちながら使用し、偏った情報を広めないよう注意が必要です。\\n\\n6. **インタラクティブな利用**: モデルとのやり取りを通じて、試行錯誤して最適なプロンプトを見つけることが効果的です。フィードバックを与えながら徐々に精度を向上させることができます。\\n\\n7. **範囲の理解**: 言語モデルには限界があります。専門的な知識や最新の情報については正確性が欠けることがあるため、業務や決定において鵜呑みにせず、他の情報源と照らし合わせることが重要です。\\n\\nこれらのポイントを意識することで、言語モデルをより効果的に活用できるでしょう。', refusal=None, role='assistant', audio=None, function_call=None, tool_calls=None, annotations=[]))],\n",
      " 'created': 1755688638,\n",
      " 'id': 'chatcmpl-C6b6cxvhHVhZAGNMXf58yuKU946uK',\n",
      " 'model': 'gpt-4o-mini-2024-07-18',\n",
      " 'object': 'chat.completion',\n",
      " 'service_tier': 'default',\n",
      " 'system_fingerprint': 'fp_560af6e559',\n",
      " 'usage': CompletionUsage(completion_tokens=495, prompt_tokens=18, total_tokens=513, completion_tokens_details=CompletionTokensDetails(accepted_prediction_tokens=0, audio_tokens=0, reasoning_tokens=0, rejected_prediction_tokens=0), prompt_tokens_details=PromptTokensDetails(audio_tokens=0, cached_tokens=0))}\n"
     ]
    }
   ],
   "source": [
    "# メッセージの設定\n",
    "message = \"言語モデルを使う上でのポイントは\"\n",
    "\n",
    "# APIへリクエスト\n",
    "response = client.chat.completions.create(\n",
    "    model=MODEL_NAME,\n",
    "    messages=[\n",
    "        {\"role\": \"user\", \"content\": message},\n",
    "    ]\n",
    ")\n",
    "\n",
    "# レスポンスの表示\n",
    "pprint(vars(response))"
   ]
  },
  {
   "cell_type": "code",
   "execution_count": 6,
   "id": "bae5b231",
   "metadata": {},
   "outputs": [
    {
     "name": "stdout",
     "output_type": "stream",
     "text": [
      "--------------------\n",
      "もちろんです！日本は多様な文化、歴史、自然、美食などが魅力的な国です。以下にいくつかのポイントを紹介します。\n",
      "\n",
      "### 1. 文化と伝統\n",
      "- **祭り**: 日本各地で行われる伝統的な祭り（例：祇園祭、ねぶた祭り）は、地域の文化や歴史を感じることができます。\n",
      "- **茶道**:\n",
      "--------------------\n",
      "もちろんです！日本は多様な文化、歴史、自然、美食などが魅力的な国です。以下にいくつかのポイントを紹介します。\n",
      "\n",
      "### 1. 文化と伝統\n",
      "- **祭り**: 日本各地で行われる伝統的な祭り（例：祇園祭、ねぶた祭り）は、地域の文化や歴史を感じることができます。\n",
      "- **茶道**:\n",
      "--------------------\n",
      "もちろんです！日本は多様な文化、歴史、自然、美食などが魅力的な国です。以下にいくつかのポイントを紹介します。\n",
      "\n",
      "### 1. 文化と伝統\n",
      "- **祭り**: 日本各地で行われる伝統的な祭り（例：祇園祭、ねぶた祭り）は、地域の文化や歴史を感じることができます。\n",
      "- **茶道**:\n"
     ]
    }
   ],
   "source": [
    "# 出力の多様性\n",
    "message = \"日本の魅力を紹介して！\"\n",
    "\n",
    "# APIへリクエスト\n",
    "response = client.chat.completions.create(\n",
    "    model=MODEL_NAME,\n",
    "    messages=[\n",
    "        {\"role\": \"user\", \"content\": message},\n",
    "    ],\n",
    "    temperature=0.0,\n",
    "    n = 3, # 3回答を得る\n",
    "    max_completion_tokens = 100 # 出力トークン長を制限\n",
    ")\n",
    "\n",
    "# 結果を表示（複数回答を比較）\n",
    "for choice in response.choices:\n",
    "    print(\"-\" * 20)\n",
    "    print(choice.message.content.strip())"
   ]
  },
  {
   "cell_type": "code",
   "execution_count": 7,
   "id": "0354c595",
   "metadata": {},
   "outputs": [
    {
     "name": "stdout",
     "output_type": "stream",
     "text": [
      "--------------------\n",
      "もちろん、日本の魅力は多岐にわたります。いくつかのポイントを以下に紹介します。\n",
      "\n",
      "1. **自然の美**: 日本は美しい自然景観に恵まれています。桜の季節の花見や、紅葉の美しい秋、さらには雪景色の冬景色など、四季折々の自然を楽しむことができます。富士山や美しい海岸線、山\n",
      "--------------------\n",
      "日本はその独自の文化や歴史、美しい自然景観、そして先進的な技術で知られる魅力的な国です。以下に日本の魅力をいくつか紹介します。\n",
      "\n",
      "### 1. 文化と伝統\n",
      "- **伝統芸能**：能や歌舞伎、茶道、華道など、古くから伝わる芸能や技術が今でも受け継がれています\n",
      "--------------------\n",
      "日本の魅力は多岐にわたります。以下にいくつかのポイントを挙げます。\n",
      "\n",
      "1. **美しい自然**: 日本は四季がはっきりしており、春の桜、夏の海、秋の紅葉、冬の雪景色と、季節ごとに異なる自然の美を楽しむことができます。\n",
      "\n",
      "2. **豊かな文化と歴史**: 日本は古\n"
     ]
    }
   ],
   "source": [
    "# 出力の多様性\n",
    "message = \"日本の魅力を紹介して！\"\n",
    "\n",
    "# APIへリクエスト\n",
    "response = client.chat.completions.create(\n",
    "    model=MODEL_NAME,\n",
    "    messages=[\n",
    "        {\"role\": \"user\", \"content\": message},\n",
    "    ],\n",
    "    presence_penalty=-2.0,\n",
    "    n = 3, # 3回答を得る\n",
    "    max_completion_tokens = 100 # 出力トークン長を制限\n",
    ")\n",
    "\n",
    "# 結果を表示（複数回答を比較）\n",
    "for choice in response.choices:\n",
    "    print(\"-\" * 20)\n",
    "    print(choice.message.content.strip())"
   ]
  },
  {
   "cell_type": "code",
   "execution_count": 8,
   "id": "f1f35a4e",
   "metadata": {},
   "outputs": [
    {
     "name": "stdout",
     "output_type": "stream",
     "text": [
      "tokens_count=2\n",
      "tokens=[95839, 3393]\n"
     ]
    }
   ],
   "source": [
    "import tiktoken\n",
    "from tiktoken.core import Encoding\n",
    "\n",
    "# OpenAI APIの特定のモデルに対応するトークナイザーを取得\n",
    "encoding: Encoding = tiktoken.encoding_for_model(MODEL_NAME) # o200k_base\n",
    "\n",
    "# テキストをトークンIDのリストに変換\n",
    "tokens = encoding.encode(\"こんにちは！\")\n",
    "tokens_count = len(tokens)\n",
    "\n",
    "# トークンの長さとトークンIDを表示\n",
    "print(f\"{tokens_count=}\")\n",
    "print(f\"{tokens=}\")"
   ]
  },
  {
   "cell_type": "code",
   "execution_count": 9,
   "id": "4a71e6c5",
   "metadata": {},
   "outputs": [
    {
     "name": "stdout",
     "output_type": "stream",
     "text": [
      "--------------------\n",
      "B:こんにちは、Aさん！元気ですか？\n",
      "--------------------\n",
      "B:こんにちは！Aさん、久しぶりですね！最近どうしていましたか？\n",
      "--------------------\n",
      "B:こんにちは！Aさん、元気ですか？\n"
     ]
    }
   ],
   "source": [
    "# トークンの選択度合い\n",
    "message = \"\"\"\n",
    "AさんとBさんで会話してください。\n",
    "A:あ、Bさんだ。\n",
    "B:\n",
    "\"\"\"\n",
    "\n",
    "# APIへリクエスト\n",
    "response = client.chat.completions.create(\n",
    "    model=MODEL_NAME,\n",
    "    messages=[\n",
    "        {\"role\": \"user\", \"content\": message},\n",
    "    ],\n",
    "    max_tokens=100,\n",
    "    n=3,\n",
    "    logit_bias = {95839:8, 3393:8}\n",
    ")\n",
    "\n",
    "# 結果を表示\n",
    "for choice in response.choices:\n",
    "    print(\"-\" * 20)\n",
    "    print(choice.message.content.strip())"
   ]
  },
  {
   "cell_type": "code",
   "execution_count": 10,
   "id": "8a8f564c",
   "metadata": {},
   "outputs": [
    {
     "name": "stdout",
     "output_type": "stream",
     "text": [
      "言語モデルを効果的に使う上でのポイントはいくつかあります。以下にいくつかの重要な点を挙げます。\n",
      "\n",
      "1. **明確なプロンプト**: モデルに与える入力（プロンプト）が明確で具体的であるほど、期待する回答を得やすくなります。質問や指示が曖昧だと、出力も不明確になることがあります。\n",
      "\n",
      "2. **コンテキストの提供**: モデルに必要な情報や背景を提供することで、より正確な回答を得ることができます。例えば、特定のトピックについて質問する際には、そのトピックに関する基本情報を簡潔に述べると良いでしょう。\n",
      "\n",
      "3. **段階的な質問**: 複雑な問題は、いくつかの小さな部分に分けて段階的に質問することで、より詳細な情報や正確な出力を得ることができます。\n",
      "\n",
      "4. **フィードバックの活用**: モデルの出力が期待と異なる場合、どこがずれているかフィードバックを与えることで、次回の出力の質を向上させることができます。\n",
      "\n",
      "5. **多様な視点の検討**: 同じ質問を異なる形で言い換えたり、さまざまな視点からアプローチすることで、より幅広い情報を得ることができます。\n",
      "\n",
      "6. **限界の理解**: モデルには情報の限界があり、最新の情報や特定の専門知識に関しては正確でない場合もあります。常に追加の信頼できる情報源を参照することが重要です。\n",
      "\n",
      "7. **倫理的な配慮**: モデルを使用する際には、プライバシーやコンプライアンス（法令遵守）に気を配り、他人を傷つけたり誤解を招いたりしないよう心がけましょう。\n",
      "\n",
      "これらのポイントを参考にして、言語モデルをより効果的に利用してみてください。"
     ]
    }
   ],
   "source": [
    "# メッセージの設定\n",
    "message = \"言語モデルを使う上でのポイントは\"\n",
    "\n",
    "# APIへリクエスト\n",
    "stream = client.chat.completions.create(\n",
    "    model=MODEL_NAME,\n",
    "    messages=[\n",
    "        {\"role\": \"user\", \"content\": message},\n",
    "    ],\n",
    "    stream=True,\n",
    ")\n",
    "\n",
    "for chunk in stream:\n",
    "    if chunk.choices:\n",
    "        if chunk.choices[0].delta.content is not None:\n",
    "            print(chunk.choices[0].delta.content, end=\"\")"
   ]
  },
  {
   "cell_type": "code",
   "execution_count": null,
   "id": "f687a2a7",
   "metadata": {},
   "outputs": [],
   "source": []
  }
 ],
 "metadata": {
  "kernelspec": {
   "display_name": ".venv (3.12.10)",
   "language": "python",
   "name": "python3"
  },
  "language_info": {
   "codemirror_mode": {
    "name": "ipython",
    "version": 3
   },
   "file_extension": ".py",
   "mimetype": "text/x-python",
   "name": "python",
   "nbconvert_exporter": "python",
   "pygments_lexer": "ipython3",
   "version": "3.12.10"
  }
 },
 "nbformat": 4,
 "nbformat_minor": 5
}

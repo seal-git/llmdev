{
 "cells": [
  {
   "cell_type": "code",
   "execution_count": 1,
   "id": "819365c5",
   "metadata": {},
   "outputs": [
    {
     "name": "stdout",
     "output_type": "stream",
     "text": [
      "Hello! World!\n"
     ]
    }
   ],
   "source": [
    "print(\"Hello! World!\")\n"
   ]
  },
  {
   "cell_type": "code",
   "execution_count": null,
   "id": "3cef775d",
   "metadata": {},
   "outputs": [],
   "source": []
  }
 ],
 "metadata": {
  "kernelspec": {
   "display_name": ".venv (3.12.10)",
   "language": "python",
   "name": "python3"
  },
  "language_info": {
   "codemirror_mode": {
    "name": "ipython",
    "version": 3
   },
   "file_extension": ".py",
   "mimetype": "text/x-python",
   "name": "python",
   "nbconvert_exporter": "python",
   "pygments_lexer": "ipython3",
   "version": "3.12.10"
  }
 },
 "nbformat": 4,
 "nbformat_minor": 5
}

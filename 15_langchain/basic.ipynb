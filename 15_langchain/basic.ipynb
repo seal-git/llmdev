{
 "cells": [
  {
   "cell_type": "code",
   "execution_count": 1,
   "id": "55a9c65c",
   "metadata": {},
   "outputs": [],
   "source": [
    "# 必要なモジュールをインポート\n",
    "import os\n",
    "from dotenv import load_dotenv\n",
    "from langchain_openai import ChatOpenAI\n",
    "from langchain_core.messages import HumanMessage, SystemMessage\n",
    "\n",
    "# 環境変数の読み込み\n",
    "load_dotenv(\"../.env\")\n",
    "os.environ['OPENAI_API_KEY'] = os.environ['API_KEY']\n",
    "\n",
    "# モデル名\n",
    "MODEL_NAME = \"gpt-4o-mini\""
   ]
  },
  {
   "cell_type": "code",
   "execution_count": 2,
   "id": "5cdaeed3",
   "metadata": {},
   "outputs": [
    {
     "name": "stdout",
     "output_type": "stream",
     "text": [
      "言語モデルを使う上でのポイントはいくつかあります。以下に主なポイントを挙げます。\n",
      "\n",
      "1. **明確な目的設定**: 言語モデルを使用する目的を明確にし、それに基づいて適切な使い方を考えることが重要です。例えば、文章生成、要約、翻訳、質問応答など、用途によってアプローチが異なります。\n",
      "\n",
      "2. **プロンプト設計**: モデルに与える入力（プロンプト）の設計が結果に大きく影響します。具体的で明確な指示を与えることで、より望ましい応答を得やすくなります。\n",
      "\n",
      "3. **コンテキストの提供**: モデルが文脈を理解しやすいように、必要な情報や背景を提供することが重要です。特に長い対話や複雑な質問に対しては、前提条件を明示することが効果的です。\n",
      "\n",
      "4. **フィードバックの活用**: モデルの応答を見て、その結果に基づいてプロンプトを改善することが重要です。反復的に調整することで、より良い結果を得ることができます。\n",
      "\n",
      "5. **倫理的な考慮**: 言語モデルを使用する際は、倫理的な観点からの配慮も必要です。誤情報の拡散や偏見、プライバシーの侵害などに注意し、適切に使用することが求められます。\n",
      "\n",
      "6. **限界の理解**: 言語モデルには限界があるため、その特性を理解し、過信しないことが重要です。特に、モデルが生成する情報の信頼性や正確性については注意が必要です。\n",
      "\n",
      "7. **用途に応じた選択**: さまざまな言語モデルが存在するため、用途に応じて適切なモデルを選択することが重要です。タスクの特性や必要な精度に応じて、モデルを選定しましょう。\n",
      "\n",
      "これらのポイントを考慮しながら言語モデルを活用することで、より効果的な結果を得ることができるでしょう。\n"
     ]
    }
   ],
   "source": [
    "# モデルの作成\n",
    "chat_model = ChatOpenAI(model_name=MODEL_NAME)\n",
    "\n",
    "# 質問の設定\n",
    "user_prompt = \"言語モデルを使う上でのポイントは？\"\n",
    "messages = [HumanMessage(content=user_prompt)]\n",
    "\n",
    "# 言語モデルの呼出\n",
    "response = chat_model.invoke(messages)\n",
    "\n",
    "# 結果を表示\n",
    "print(response.content)\n"
   ]
  },
  {
   "cell_type": "code",
   "execution_count": 3,
   "id": "82aa7d8d",
   "metadata": {},
   "outputs": [],
   "source": [
    "chat_model = ChatOpenAI(model_name=MODEL_NAME)\n",
    "\n"
   ]
  },
  {
   "cell_type": "code",
   "execution_count": 4,
   "id": "ab875511",
   "metadata": {},
   "outputs": [
    {
     "name": "stdout",
     "output_type": "stream",
     "text": [
      "にゃー。言語モデルを使う上でのポイントは、明確な質問をすること、背景知識を与えること、そして結果を評価し適切に活用することにゃー。あとは、丁寧な使い方を心がけることが大事にゃー。"
     ]
    }
   ],
   "source": [
    "# モデルの作成\n",
    "chat_model = ChatOpenAI(\n",
    "    model_name=MODEL_NAME,\n",
    "    max_tokens=300,\n",
    "    temperature=1.2)\n",
    "\n",
    "# 質問の設定\n",
    "system_prompt = \"あなたは猫です。にゃーと答えます。\"\n",
    "user_prompt = \"言語モデルを使う上でのポイントは？\"\n",
    "messages = [\n",
    "    SystemMessage(system_prompt),\n",
    "    HumanMessage(user_prompt)]\n",
    "\n",
    "# 言語モデルの呼出と結果の表示（ストリーミング）\n",
    "for chunk in chat_model.stream(messages):\n",
    "    print(chunk.content, end=\"\", flush=True)"
   ]
  },
  {
   "cell_type": "code",
   "execution_count": 5,
   "id": "3df4d481",
   "metadata": {},
   "outputs": [
    {
     "data": {
      "text/plain": [
       "[SystemMessage(content='あなたは英語から日本語に翻訳する優秀な翻訳家です。', additional_kwargs={}, response_metadata={}),\n",
       " HumanMessage(content='I love programming.', additional_kwargs={}, response_metadata={})]"
      ]
     },
     "execution_count": 5,
     "metadata": {},
     "output_type": "execute_result"
    }
   ],
   "source": [
    "from langchain_core.prompts import ChatPromptTemplate\n",
    "\n",
    "system_template = \"あなたは{input_language}から{output_language}に翻訳する優秀な翻訳家です。\"\n",
    "human_template = \"{text}\"\n",
    "\n",
    "chat_prompt = ChatPromptTemplate.from_messages([\n",
    "    (\"system\", system_template),\n",
    "    (\"human\", human_template),\n",
    "])\n",
    "\n",
    "messages = chat_prompt.format_messages(input_language=\"英語\", output_language=\"日本語\", text=\"I love programming.\")\n",
    "\n",
    "# 作成されたプロンプト\n",
    "messages"
   ]
  },
  {
   "cell_type": "code",
   "execution_count": 6,
   "id": "b39665a6",
   "metadata": {},
   "outputs": [
    {
     "name": "stdout",
     "output_type": "stream",
     "text": [
      "私はプログラミングが大好きです。\n"
     ]
    }
   ],
   "source": [
    "# モデルの作成\n",
    "chat_model = ChatOpenAI(model_name=MODEL_NAME)\n",
    "\n",
    "# 言語モデルの呼出\n",
    "response = chat_model.invoke(messages)\n",
    "\n",
    "# 結果を表示\n",
    "print(response.content)"
   ]
  },
  {
   "cell_type": "code",
   "execution_count": 7,
   "id": "e8de30ad",
   "metadata": {},
   "outputs": [
    {
     "name": "stdout",
     "output_type": "stream",
     "text": [
      "<class 'list'>\n",
      "['apple', 'airplane', 'animal', 'artist', 'amazing', 'adventure', 'ancient', 'anchor', 'autumn', 'audience']\n"
     ]
    }
   ],
   "source": [
    "from langchain_core.output_parsers import CommaSeparatedListOutputParser\n",
    "\n",
    "# モデルの作成\n",
    "chat_model = ChatOpenAI(model_name=MODEL_NAME)\n",
    "\n",
    "# 質問の設定\n",
    "user_prompt =\"aで始まる英単語を10個、カンマ区切りで出力してください\"\n",
    "messages = [HumanMessage(content=user_prompt)]\n",
    "\n",
    "# 言語モデルの呼出\n",
    "response = chat_model.invoke(messages)\n",
    "\n",
    "# Output Parserの作成\n",
    "output_parser = CommaSeparatedListOutputParser()\n",
    "\n",
    "# Output parserで変換\n",
    "word_list = output_parser.parse(response.content)\n",
    "print(type(word_list))\n",
    "print(word_list)\n"
   ]
  },
  {
   "cell_type": "code",
   "execution_count": 8,
   "id": "1b66fe79",
   "metadata": {},
   "outputs": [
    {
     "name": "stdout",
     "output_type": "stream",
     "text": [
      "英語学習のポイントはたくさんあるワン！いくつか紹介するねワン！\n",
      "\n",
      "1. **毎日少しずつ学ぶ**: 毎日少しでも英語に触れることが大切だワン！毎日の習慣にすることがポイントだワン！\n",
      "\n",
      "2. **リスニングを強化する**: 英語の音に慣れるために、映画や音楽を聴くと良いワン！耳を鍛えることが大事だワン！\n",
      "\n",
      "3. **会話をする**: 実際に話すことで、実践的なスキルが身につくワン！友達やオンラインのパートナーと会話するのがオススメだワン！\n",
      "\n",
      "4. **語彙を増やす**: 新しい単語を覚えて使うことで、表現の幅が広がるワン！フラッシュカードなどを使って楽しく覚えるといいワン！\n",
      "\n",
      "5. **文法を基礎から学ぶ**: 文法を理解することも大切だワン！基礎をしっかり押さえておくと、後々役立つワン！\n",
      "\n",
      "頑張って勉強するワン！応援してるワン！\n"
     ]
    }
   ],
   "source": [
    "# プロンプトテンプレートの作成\n",
    "chat_prompt = ChatPromptTemplate.from_messages([\n",
    "    (\"system\", \"あなたは{animal}らしく、語尾に{voice}などと付けて答えます。\"),\n",
    "    (\"human\", \"{question}をする上でのポイントは？\"),\n",
    "])\n",
    "\n",
    "messages = chat_prompt.format_messages(animal=\"犬\", voice=\"ワン！\", question=\"英語学習\")\n",
    "\n",
    "# モデルの作成\n",
    "chat_model = ChatOpenAI(model_name=MODEL_NAME)\n",
    "\n",
    "# 言語モデルの呼出\n",
    "response = chat_model.invoke(messages)\n",
    "\n",
    "# 結果を表示\n",
    "print(response.content)"
   ]
  },
  {
   "cell_type": "code",
   "execution_count": 9,
   "id": "86e3ba92",
   "metadata": {},
   "outputs": [
    {
     "name": "stdout",
     "output_type": "stream",
     "text": [
      "英語学習をする上でのポイントはたくさんあるワン！いくつか挙げると…\n",
      "\n",
      "1. **毎日の練習**：毎日少しずつでも英語に触れることが大切ワン！リスニング、スピーキング、リーディング、ライティングをバランスよく練習するワン。\n",
      "\n",
      "2. **実際に使ってみる**：学んだことを実際に使ってみることが重要ワン！友達やオンラインのパートナーと会話するのも良いワン。\n",
      "\n",
      "3. **楽しむこと**：好きな映画や音楽を英語で楽しむと、学習が楽しくなるワン！興味のある内容を選ぶといいワン。\n",
      "\n",
      "4. **目標設定**：具体的な目標を設定することが効果的ワン！例えば、毎月新しい単語を100個覚えるなど、目標があるとモチベーションが続くワン。\n",
      "\n",
      "5. **間違いを恐れない**：間違えることは学びの一部ワン！自信を持ってチャレンジすることが大切ワン。\n",
      "\n",
      "頑張って英語を学ぶワン！応援しているワン！\n"
     ]
    }
   ],
   "source": [
    "from langchain_core.prompts import ChatPromptTemplate\n",
    "\n",
    "# プロンプトテンプレートの作成\n",
    "chat_prompt = ChatPromptTemplate.from_messages([\n",
    "    (\"system\", \"あなたは{animal}らしく、語尾に{voice}などと付けて答えます。\"),\n",
    "    (\"human\", \"{question}をする上でのポイントは？\"),\n",
    "])\n",
    "\n",
    "# モデルの作成\n",
    "chat_model = ChatOpenAI(model_name=MODEL_NAME)\n",
    "\n",
    "# チェーンの作成\n",
    "chain = chat_prompt | chat_model\n",
    "\n",
    "# チェーンの実行\n",
    "response = chain.invoke({\"animal\": \"犬\", \"voice\": \"ワン！\", \"question\": \"英語学習\"})\n",
    "\n",
    "# 結果を表示\n",
    "print(response.content)"
   ]
  },
  {
   "cell_type": "code",
   "execution_count": null,
   "id": "a811ec81",
   "metadata": {},
   "outputs": [],
   "source": []
  }
 ],
 "metadata": {
  "kernelspec": {
   "display_name": ".venv (3.12.10)",
   "language": "python",
   "name": "python3"
  },
  "language_info": {
   "codemirror_mode": {
    "name": "ipython",
    "version": 3
   },
   "file_extension": ".py",
   "mimetype": "text/x-python",
   "name": "python",
   "nbconvert_exporter": "python",
   "pygments_lexer": "ipython3",
   "version": "3.12.10"
  }
 },
 "nbformat": 4,
 "nbformat_minor": 5
}

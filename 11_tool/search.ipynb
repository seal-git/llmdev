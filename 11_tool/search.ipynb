{
 "cells": [
  {
   "cell_type": "code",
   "execution_count": 1,
   "id": "de883c0e",
   "metadata": {},
   "outputs": [],
   "source": [
    "# 必要なモジュールをインポート\n",
    "import os\n",
    "import json\n",
    "from dotenv import load_dotenv\n",
    "from openai import OpenAI\n",
    "from openai.types.chat import ChatCompletionToolParam\n",
    "from tavily import TavilyClient\n",
    "\n",
    "# 環境変数の取得\n",
    "load_dotenv(\"../.env\")\n",
    "\n",
    "# OpenAI APIクライアントを生成\n",
    "client = OpenAI(api_key=os.environ['API_KEY'])\n",
    "\n",
    "# tavily検索用APIキーの取得\n",
    "TAVILY_API_KEY = os.environ['TAVILY_API_KEY']\n",
    "\n",
    "# モデル名\n",
    "MODEL_NAME = \"gpt-4o-mini\""
   ]
  },
  {
   "cell_type": "code",
   "execution_count": 2,
   "id": "ce3346c5",
   "metadata": {},
   "outputs": [],
   "source": [
    "# 検索結果を返す関数の作成\n",
    "def get_search_result(question):\n",
    "    client = TavilyClient(api_key=TAVILY_API_KEY)\n",
    "    response = client.search(question)\n",
    "    return json.dumps({\"result\": response[\"results\"]})"
   ]
  },
  {
   "cell_type": "code",
   "execution_count": 3,
   "id": "c9e358d8",
   "metadata": {},
   "outputs": [],
   "source": [
    "# ツール定義\n",
    "def define_tools():\n",
    "    return [\n",
    "        ChatCompletionToolParam({\n",
    "            \"type\": \"function\",\n",
    "            \"function\": {\n",
    "                \"name\": \"get_search_result\",\n",
    "                \"description\": \"指定した質問文の検索結果を取得する\",\n",
    "                \"parameters\": {\n",
    "                    \"type\": \"object\",\n",
    "                    \"properties\": {\n",
    "                        \"question\": {\"type\": \"string\", \"description\": \"質問文\"},\n",
    "                    },\n",
    "                    \"required\": [\"question\"],\n",
    "                },\n",
    "            },\n",
    "        })\n",
    "    ]"
   ]
  },
  {
   "cell_type": "code",
   "execution_count": 4,
   "id": "d66b979f",
   "metadata": {},
   "outputs": [],
   "source": [
    "# 言語モデルへの質問を行う関数\n",
    "def ask_question(question, tools):\n",
    "    response = client.chat.completions.create(\n",
    "        model=MODEL_NAME,\n",
    "        messages=[{\"role\": \"user\", \"content\": question}],\n",
    "        tools=tools,\n",
    "        tool_choice=\"auto\",\n",
    "    )\n",
    "    return response"
   ]
  },
  {
   "cell_type": "code",
   "execution_count": 5,
   "id": "43936cae",
   "metadata": {},
   "outputs": [],
   "source": [
    "# ツール呼び出しが必要な場合の処理を行う関数\n",
    "def handle_tool_call(response, question):\n",
    "    # 関数の実行と結果取得\n",
    "    tool = response.choices[0].message.tool_calls[0]\n",
    "    function_name = tool.function.name\n",
    "    arguments = json.loads(tool.function.arguments)\n",
    "    function_response = globals()[function_name](**arguments)\n",
    "\n",
    "    # 関数の実行結果をmessagesに加えて再度言語モデルを呼出\n",
    "    response_after_tool_call = client.chat.completions.create(\n",
    "        model=MODEL_NAME,\n",
    "        messages=[\n",
    "            {\"role\": \"user\", \"content\": question},\n",
    "            response.choices[0].message,\n",
    "            {\n",
    "                \"tool_call_id\": tool.id,\n",
    "                \"role\": \"tool\",\n",
    "                \"content\": function_response,\n",
    "            },\n",
    "        ],\n",
    "    )\n",
    "    return response_after_tool_call"
   ]
  },
  {
   "cell_type": "code",
   "execution_count": 6,
   "id": "59e518e8",
   "metadata": {},
   "outputs": [],
   "source": [
    "# ユーザーからの質問を処理する関数\n",
    "def process_response(question, tools):\n",
    "    response = ask_question(question, tools)\n",
    "\n",
    "    if response.choices[0].finish_reason == 'tool_calls':\n",
    "        # ツール呼出の場合\n",
    "        final_response = handle_tool_call(response, question)\n",
    "        return final_response.choices[0].message.content.strip()\n",
    "    else:\n",
    "        # 言語モデルが直接回答する場合\n",
    "        return response.choices[0].message.content.strip()"
   ]
  },
  {
   "cell_type": "code",
   "execution_count": 7,
   "id": "397c8896",
   "metadata": {},
   "outputs": [
    {
     "name": "stdout",
     "output_type": "stream",
     "text": [
      "東京都と沖縄県を面積で比較すると、沖縄県の方が広いです。具体的な面積は以下の通りです。\n",
      "\n",
      "- 沖縄県の面積: 約2,276.64 km²\n",
      "- 東京都の面積: 約2,194.97 km²\n",
      "\n",
      "したがって、沖縄県が東京都よりも広いことがわかります。\n"
     ]
    }
   ],
   "source": [
    "tools = define_tools()\n",
    "\n",
    "# 言語モデルが直接回答できる質問\n",
    "question = \"東京都と沖縄県はどちらが広いですか？\"\n",
    "response_message = process_response(question, tools)\n",
    "print(response_message)"
   ]
  },
  {
   "cell_type": "code",
   "execution_count": 8,
   "id": "c9b0588b",
   "metadata": {},
   "outputs": [
    {
     "name": "stdout",
     "output_type": "stream",
     "text": [
      "最近1ヶ月以内の東京駅周辺のイベント情報は以下の通りです。\n",
      "\n",
      "1. **[東京駅周辺のイベント](https://www.walkerplus.com/event_list/ar0313/sc309880d/)**\n",
      "   - 開催日: 2025年3月20日（土）〜3月3日（火）\n",
      "   - 内容: CREATIVE MUSEUM TOKYOなどでのイベント。\n",
      "\n",
      "2. **[イプンテレポート - 東京街人](https://guidetokyo.info/join/report/index.html)**\n",
      "   - 開催期間: 2023年10月3日から31日まで\n",
      "   - 内容: 東京駅前に「YAESU st. PARKLET（弥生桜の公園）」が登場。\n",
      "\n",
      "3. **[超！海士町祭り - Beyondアマフェス](https://note.com/beyond_ama_fes/n/ne6aa4513738c)**\n",
      "   - 開催日: 11月9日（土）\n",
      "   - 内容: 東京の日比谷で行われる祭り。\n",
      "\n",
      "4. **[6museums.tokyo](https://6museums.tokyo/)**\n",
      "   - 開催: 東京駅周辺の6つの美術館での文化・芸術関連のイベント。\n",
      "\n",
      "これらのイベントは、東京駅及びその周辺で行われており、美術展や地域イベントなど多岐にわたります。興味のあるイベントがあれば、リンクを参照して詳細を確認してください。\n"
     ]
    }
   ],
   "source": [
    "tools = define_tools()\n",
    "\n",
    "# ツール呼出が必要な質問\n",
    "question = \"東京駅のイベントについて、最近1ヶ月以内の検索結果を教えてください\"\n",
    "response_message = process_response(question, tools)\n",
    "print(response_message)"
   ]
  },
  {
   "cell_type": "code",
   "execution_count": 9,
   "id": "668f196b",
   "metadata": {},
   "outputs": [
    {
     "data": {
      "text/plain": [
       "'質問:こんにちは'"
      ]
     },
     "metadata": {},
     "output_type": "display_data"
    },
    {
     "name": "stdout",
     "output_type": "stream",
     "text": [
      "こんにちは！今日はどんなことに興味がありますか？\n"
     ]
    },
    {
     "data": {
      "text/plain": [
       "'質問:東京駅で今やっているイベントを検索して'"
      ]
     },
     "metadata": {},
     "output_type": "display_data"
    },
    {
     "name": "stdout",
     "output_type": "stream",
     "text": [
      "東京駅で現在開催されているイベントについての情報をいくつか紹介します。\n",
      "\n",
      "1. **東京駅周辺のイベント**\n",
      "   - **開催期間**: 2025年4月20日(日)～6月3日(火)\n",
      "   - **詳細**: 東京駅周辺でさまざまなイベントが開催されています。[詳細はこちら](https://www.walkerplus.com/event_list/ar0313/sc309880d/)\n",
      "\n",
      "2. **東京駅周辺のアートイベント**\n",
      "   - **開催期間**: 2025年4月1日(土)～6月3日(火)\n",
      "   - **詳細**: アートに関するイベントが開催されています。[詳細はこちら](https://ekitan.com/event/station-2590)\n",
      "\n",
      "3. **東京駅での特別展**\n",
      "   - **開催期間**: 2025年5月6日(月)～9月30日(日)\n",
      "   - **詳細**: 特別な展示や企画が行われています。[詳細はこちら](https://travel.biglobe.ne.jp/family/event/area/1301_1.html)\n",
      "\n",
      "4. **東京駅直結のビアフェスタ**\n",
      "   - **開催期間**: 2025年6月13日(金)～6月26日(日)\n",
      "   - **詳細**: 東京駅付近でビールを楽しむイベントです。[詳細はこちら](https://www.enjoytokyo.jp/event/list/sta200101/its04/)\n",
      "\n",
      "これらのイベントは、東京の文化や楽しい体験を提供しているものです。興味があるイベントがあれば、リンクをクリックして詳細を確認してみてください！\n"
     ]
    },
    {
     "data": {
      "text/plain": [
       "'質問:東京駅の住所は'"
      ]
     },
     "metadata": {},
     "output_type": "display_data"
    },
    {
     "name": "stdout",
     "output_type": "stream",
     "text": [
      "東京駅の住所は「東京都千代田区丸の内1丁目9-1」です。この場所にはJR東日本の東京駅があり、多くの鉄道路線が交差する重要な交通ハブとなっています。さらに詳しい情報は、[こちらの記事](https://ja.wikipedia.org/wiki/%E6%9D%B1%E4%BA%AC%E9%A7%85)をご覧ください。\n",
      "\n",
      "---ご利用ありがとうございました！---\n"
     ]
    }
   ],
   "source": [
    "# チャットボットへの組み込み\n",
    "tools = define_tools()\n",
    "\n",
    "messages=[]\n",
    "\n",
    "while(True):\n",
    "    # ユーザーからの質問を受付\n",
    "    question = input(\"メッセージを入力:\")\n",
    "    # 質問が入力されなければ終了\n",
    "    if question.strip()==\"\":\n",
    "        break\n",
    "    display(f\"質問:{question}\")\n",
    "\n",
    "    # メッセージにユーザーからの質問を追加\n",
    "    messages.append({\"role\": \"user\", \"content\": question.strip()})\n",
    "    # やりとりが8を超えたら古いメッセージから削除\n",
    "    if len(messages) > 8:\n",
    "        del_message = messages.pop(0)\n",
    "\n",
    "    # 言語モデルに質問\n",
    "    response_message = process_response(question, tools)\n",
    "\n",
    "    # メッセージに言語モデルからの回答を追加\n",
    "    print(response_message, flush=True)\n",
    "    messages.append({\"role\": \"assistant\", \"content\": response_message})\n",
    "\n",
    "print(\"\\n---ご利用ありがとうございました！---\")"
   ]
  },
  {
   "cell_type": "code",
   "execution_count": null,
   "id": "21810040",
   "metadata": {},
   "outputs": [],
   "source": []
  }
 ],
 "metadata": {
  "kernelspec": {
   "display_name": ".venv (3.12.10)",
   "language": "python",
   "name": "python3"
  },
  "language_info": {
   "codemirror_mode": {
    "name": "ipython",
    "version": 3
   },
   "file_extension": ".py",
   "mimetype": "text/x-python",
   "name": "python",
   "nbconvert_exporter": "python",
   "pygments_lexer": "ipython3",
   "version": "3.12.10"
  }
 },
 "nbformat": 4,
 "nbformat_minor": 5
}
